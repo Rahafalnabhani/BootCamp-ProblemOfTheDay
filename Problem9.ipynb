{
 "cells": [
  {
   "cell_type": "markdown",
   "id": "699b9bf7",
   "metadata": {},
   "source": [
    "# Question:"
   ]
  },
  {
   "cell_type": "code",
   "execution_count": null,
   "id": "4087800e",
   "metadata": {},
   "outputs": [],
   "source": [
    "# Given a string s . The task is to count the number of substrings which contains \n",
    "# equal number of lowercase and uppercase letters\n",
    "# Input :'WomensDay'"
   ]
  },
  {
   "cell_type": "code",
   "execution_count": 2,
   "id": "31c4071a",
   "metadata": {},
   "outputs": [
    {
     "name": "stdout",
     "output_type": "stream",
     "text": [
      "Enter a string: WomenDay\n",
      "Number of substrings with equal lowercase and uppercase letters: 3\n"
     ]
    }
   ],
   "source": [
    "def count_equal_substrings(s):\n",
    "    count = 0\n",
    "    \n",
    "    for i in range(len(s)):\n",
    "        lowercase_count = 0\n",
    "        uppercase_count = 0\n",
    "        \n",
    "        for j in range(i, len(s)):\n",
    "            if s[j].islower():\n",
    "                lowercase_count += 1\n",
    "            else:\n",
    "                uppercase_count += 1\n",
    "            \n",
    "            if lowercase_count == uppercase_count:\n",
    "                count += 1\n",
    "    \n",
    "    return count\n",
    "\n",
    "s = input(\"Enter a string: \")\n",
    "result = count_equal_substrings(s)\n",
    "print(\"Number of substrings with equal lowercase and uppercase letters:\", result)\n"
   ]
  },
  {
   "cell_type": "code",
   "execution_count": null,
   "id": "8112f543",
   "metadata": {},
   "outputs": [],
   "source": []
  }
 ],
 "metadata": {
  "kernelspec": {
   "display_name": "Python 3 (ipykernel)",
   "language": "python",
   "name": "python3"
  },
  "language_info": {
   "codemirror_mode": {
    "name": "ipython",
    "version": 3
   },
   "file_extension": ".py",
   "mimetype": "text/x-python",
   "name": "python",
   "nbconvert_exporter": "python",
   "pygments_lexer": "ipython3",
   "version": "3.11.3"
  }
 },
 "nbformat": 4,
 "nbformat_minor": 5
}
