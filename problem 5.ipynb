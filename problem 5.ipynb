{
 "cells": [
  {
   "cell_type": "markdown",
   "id": "97741d6c",
   "metadata": {},
   "source": [
    "# Question:"
   ]
  },
  {
   "cell_type": "code",
   "execution_count": null,
   "id": "82bc65f2",
   "metadata": {},
   "outputs": [],
   "source": [
    "# Given a list of N fractions , represented as two list numerator and denominator the task is to determine the count \n",
    "# of pairs of fractions whose sum egual 1"
   ]
  },
  {
   "cell_type": "code",
   "execution_count": 10,
   "id": "11dc6377",
   "metadata": {
    "scrolled": true
   },
   "outputs": [
    {
     "name": "stdout",
     "output_type": "stream",
     "text": [
      "Enter the numerator: 2 3 4\n",
      "Enter the denominator: 6 5 3\n",
      "Count is : 0\n"
     ]
    }
   ],
   "source": [
    "def count_pairs(numerator , denominator):     #--->define the function to take the two list \n",
    "    count = 0                                #--->to keep track of the number of pairs with sum equal to 1\n",
    "    total_fraction = len(numerator)         #---> length of the number \n",
    "    \n",
    "    for  i in range(total_fraction):\n",
    "        for j in range (i+1,total_fraction):\n",
    "            if numerator[i] * denominator[j] + numerator[j] * denominator[i] == denominator[i]* denominator[j]:\n",
    "                count +=1\n",
    "    return count\n",
    "            \n",
    "numerator = [int(x) for x in input(\"Enter the numerator: \").split()]\n",
    "denominator = [int(x) for x in input(\"Enter the denominator: \").split()]\n",
    "\n",
    "result = count_pairs(numerator,denominator)\n",
    "print (\"Count is :\",result)"
   ]
  },
  {
   "cell_type": "code",
   "execution_count": 2,
   "id": "9a2b3e6b",
   "metadata": {},
   "outputs": [
    {
     "name": "stdout",
     "output_type": "stream",
     "text": [
      "2\n"
     ]
    }
   ],
   "source": [
    "n = [1,2,2,8]\n",
    "d = [2,4,6,12]\n",
    "count = 0\n",
    "for x in range(4):\n",
    "    if n[x]/d[x]+n[x]/d[x] ==1:\n",
    "        count +=1\n",
    "print(count)"
   ]
  },
  {
   "cell_type": "code",
   "execution_count": null,
   "id": "d0586cb7",
   "metadata": {},
   "outputs": [],
   "source": []
  }
 ],
 "metadata": {
  "kernelspec": {
   "display_name": "Python 3 (ipykernel)",
   "language": "python",
   "name": "python3"
  },
  "language_info": {
   "codemirror_mode": {
    "name": "ipython",
    "version": 3
   },
   "file_extension": ".py",
   "mimetype": "text/x-python",
   "name": "python",
   "nbconvert_exporter": "python",
   "pygments_lexer": "ipython3",
   "version": "3.11.3"
  }
 },
 "nbformat": 4,
 "nbformat_minor": 5
}
