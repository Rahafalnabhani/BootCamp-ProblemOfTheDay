{
 "cells": [
  {
   "cell_type": "markdown",
   "id": "0a6b357a",
   "metadata": {},
   "source": [
    "# Question :"
   ]
  },
  {
   "cell_type": "code",
   "execution_count": null,
   "id": "e9f90523",
   "metadata": {},
   "outputs": [],
   "source": [
    "# Given an undersarted array Arr of N postive and negative numbers your task is to create an array of atternate \n",
    "# postive and negative numbers without changing the relative order of postive and negative numbers."
   ]
  },
  {
   "cell_type": "code",
   "execution_count": 1,
   "id": "826792dc",
   "metadata": {},
   "outputs": [
    {
     "name": "stdout",
     "output_type": "stream",
     "text": [
      "[2, -3, 5, -4, 9, -6]\n"
     ]
    }
   ],
   "source": [
    "def rearrange_alternate_positive_negative(arr):\n",
    "    n = len(arr)\n",
    "    pos = [x for x in arr if x > 0]  # Positive numbers\n",
    "    neg = [x for x in arr if x < 0]  # Negative numbers\n",
    "\n",
    "    result = []\n",
    "    for p, n in zip(pos, neg):\n",
    "        result.extend([p, n])\n",
    "\n",
    "    return result\n",
    "\n",
    "# Example input\n",
    "input_array = [2, -3, -4, 5, -6, -7, -8, 9]\n",
    "result = rearrange_alternate_positive_negative(input_array)\n",
    "print(result)  # Output: [2, -3, 5, -4, 9, -6, -7, -8]"
   ]
  }
 ],
 "metadata": {
  "kernelspec": {
   "display_name": "Python 3 (ipykernel)",
   "language": "python",
   "name": "python3"
  },
  "language_info": {
   "codemirror_mode": {
    "name": "ipython",
    "version": 3
   },
   "file_extension": ".py",
   "mimetype": "text/x-python",
   "name": "python",
   "nbconvert_exporter": "python",
   "pygments_lexer": "ipython3",
   "version": "3.11.3"
  }
 },
 "nbformat": 4,
 "nbformat_minor": 5
}
