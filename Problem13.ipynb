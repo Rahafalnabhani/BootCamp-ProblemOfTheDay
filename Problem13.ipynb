{
 "cells": [
  {
   "cell_type": "markdown",
   "id": "ce25ef23",
   "metadata": {},
   "source": [
    "# Question "
   ]
  },
  {
   "cell_type": "code",
   "execution_count": null,
   "id": "bb8ac143",
   "metadata": {},
   "outputs": [],
   "source": [
    "# Given a set of integers , find all distinct sums that can be generated from the subsets of the given sets\n",
    "# input : num={1,2}"
   ]
  },
  {
   "cell_type": "code",
   "execution_count": 1,
   "id": "41320e5f",
   "metadata": {},
   "outputs": [
    {
     "name": "stdout",
     "output_type": "stream",
     "text": [
      "[0, 1, 2, 3]\n"
     ]
    }
   ],
   "source": [
    "def find_distinct_sums(nums):\n",
    "    distinct_sums = {0}  # Start with the sum 0\n",
    "    for num in nums:\n",
    "        new_sums = set()\n",
    "        for sum_val in distinct_sums:\n",
    "            new_sums.add(sum_val + num)  # Add the current number to existing sums\n",
    "        distinct_sums.update(new_sums)  # Update the set of distinct sums\n",
    "    return list(distinct_sums)\n",
    "\n",
    "nums = [1, 2]\n",
    "distinct_sums = find_distinct_sums(nums)\n",
    "print(distinct_sums)"
   ]
  }
 ],
 "metadata": {
  "kernelspec": {
   "display_name": "Python 3 (ipykernel)",
   "language": "python",
   "name": "python3"
  },
  "language_info": {
   "codemirror_mode": {
    "name": "ipython",
    "version": 3
   },
   "file_extension": ".py",
   "mimetype": "text/x-python",
   "name": "python",
   "nbconvert_exporter": "python",
   "pygments_lexer": "ipython3",
   "version": "3.11.3"
  }
 },
 "nbformat": 4,
 "nbformat_minor": 5
}
