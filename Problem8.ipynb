{
 "cells": [
  {
   "cell_type": "markdown",
   "id": "867bd25e",
   "metadata": {},
   "source": [
    "# Question:"
   ]
  },
  {
   "cell_type": "code",
   "execution_count": null,
   "id": "b9e8332b",
   "metadata": {},
   "outputs": [],
   "source": [
    "# Given a linked list and a number k . you have to reserver first part of linked list with K nodes \n",
    "# and the second part with n-k nodes\n",
    "# The input is [1,2,3,4,5]  ,  k=2"
   ]
  },
  {
   "cell_type": "code",
   "execution_count": 1,
   "id": "b18a7f38",
   "metadata": {},
   "outputs": [
    {
     "name": "stdout",
     "output_type": "stream",
     "text": [
      "Original linked list:\n",
      "1 -> 2 -> 3 -> 4 -> 5 -> None\n",
      "\n",
      "Linked list after reversing portions:\n",
      "2 -> 1 -> 3 -> 4 -> 5 -> None\n"
     ]
    }
   ],
   "source": [
    "class ListNode:\n",
    "    def __init__(self, value=0, next=None):\n",
    "        self.value = value\n",
    "        self.next = next\n",
    "\n",
    "def reverse_linked_list_portion(head, k):\n",
    "    prev = None\n",
    "    curr = head\n",
    "    count = 0\n",
    "    \n",
    "    # Reverse the first k nodes\n",
    "    while curr and count < k:\n",
    "        next_node = curr.next\n",
    "        curr.next = prev\n",
    "        prev = curr\n",
    "        curr = next_node\n",
    "        count += 1\n",
    "    \n",
    "    # Connect the reversed part with the remaining linked list\n",
    "    head.next = curr\n",
    "    \n",
    "    return prev\n",
    "\n",
    "# Helper function to print the linked list\n",
    "def print_linked_list(head):\n",
    "    while head:\n",
    "        print(head.value, end=\" -> \")\n",
    "        head = head.next\n",
    "    print(\"None\")\n",
    "\n",
    "# Example usage\n",
    "elements = [1, 2, 3, 4, 5]\n",
    "k = 2\n",
    "\n",
    "# Create the linked list\n",
    "head = ListNode(elements[0])\n",
    "current = head\n",
    "for value in elements[1:]:\n",
    "    current.next = ListNode(value)\n",
    "    current = current.next\n",
    "\n",
    "print(\"Original linked list:\")\n",
    "print_linked_list(head)\n",
    "\n",
    "new_head = reverse_linked_list_portion(head, k)\n",
    "print(\"\\nLinked list after reversing portions:\")\n",
    "print_linked_list(new_head)\n"
   ]
  },
  {
   "cell_type": "code",
   "execution_count": null,
   "id": "9f9fd123",
   "metadata": {},
   "outputs": [],
   "source": []
  }
 ],
 "metadata": {
  "kernelspec": {
   "display_name": "Python 3 (ipykernel)",
   "language": "python",
   "name": "python3"
  },
  "language_info": {
   "codemirror_mode": {
    "name": "ipython",
    "version": 3
   },
   "file_extension": ".py",
   "mimetype": "text/x-python",
   "name": "python",
   "nbconvert_exporter": "python",
   "pygments_lexer": "ipython3",
   "version": "3.11.3"
  }
 },
 "nbformat": 4,
 "nbformat_minor": 5
}
