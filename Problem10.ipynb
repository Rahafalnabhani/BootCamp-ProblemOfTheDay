{
 "cells": [
  {
   "cell_type": "markdown",
   "id": "b61e7a01",
   "metadata": {},
   "source": [
    "# Question :"
   ]
  },
  {
   "cell_type": "code",
   "execution_count": null,
   "id": "48c47715",
   "metadata": {},
   "outputs": [],
   "source": [
    "# Given a array arr[] Containing positive elements A and B are two numbers defining a range .The task is to check if \n",
    "# The array contains all elements in the given range"
   ]
  },
  {
   "cell_type": "code",
   "execution_count": 7,
   "id": "9226b993",
   "metadata": {},
   "outputs": [
    {
     "name": "stdout",
     "output_type": "stream",
     "text": [
      "array doesn't contain all the elements in the given range7\n",
      "Enter the lower range value (A): 2\n",
      "Enter the upper range value (B): 5\n",
      "The array does not contain all elements in the given range.\n"
     ]
    }
   ],
   "source": [
    "def contains_range(N,A,B):\n",
    "    for num in range(A, B):\n",
    "        if num not in N:\n",
    "            return False      #-->array doesn't contain all the elements in the given range         \n",
    "\n",
    "N = list(map(int, input(\"array doesn't contain all the elements in the given range\").split()))\n",
    "A = int(input(\"Enter the lower range value (A): \"))\n",
    "B = int(input(\"Enter the upper range value (B): \"))\n",
    "\n",
    "result = contains_range(N, A, B)\n",
    "if result:\n",
    "    print(\"The array contains all elements in the given range.\")\n",
    "else:\n",
    "    print(\"The array does not contain all elements in the given range.\")"
   ]
  },
  {
   "cell_type": "code",
   "execution_count": null,
   "id": "3606d47b",
   "metadata": {},
   "outputs": [],
   "source": []
  }
 ],
 "metadata": {
  "kernelspec": {
   "display_name": "Python 3 (ipykernel)",
   "language": "python",
   "name": "python3"
  },
  "language_info": {
   "codemirror_mode": {
    "name": "ipython",
    "version": 3
   },
   "file_extension": ".py",
   "mimetype": "text/x-python",
   "name": "python",
   "nbconvert_exporter": "python",
   "pygments_lexer": "ipython3",
   "version": "3.11.3"
  }
 },
 "nbformat": 4,
 "nbformat_minor": 5
}
