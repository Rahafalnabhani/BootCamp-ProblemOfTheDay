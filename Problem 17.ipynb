{
 "cells": [
  {
   "cell_type": "markdown",
   "id": "c30075cd",
   "metadata": {},
   "source": [
    "# Question "
   ]
  },
  {
   "cell_type": "code",
   "execution_count": null,
   "id": "7f428d57",
   "metadata": {},
   "outputs": [],
   "source": [
    "# Input : (White Space)\n",
    "# Heigth : [0,1,0,1,2,1,0,1,3,2,1,2,1]\n",
    "# Height : [4,2,0,3,2,5]\n",
    "# Output : (Blue units)"
   ]
  },
  {
   "cell_type": "code",
   "execution_count": 1,
   "id": "62f37740",
   "metadata": {},
   "outputs": [
    {
     "name": "stdout",
     "output_type": "stream",
     "text": [
      "6\n",
      "9\n"
     ]
    }
   ],
   "source": [
    "def trap(height):\n",
    "    n = len(height)\n",
    "    if n <= 2:\n",
    "        return 0\n",
    "    \n",
    "    left_max = [0] * n\n",
    "    right_max = [0] * n\n",
    "    \n",
    "    left_max[0] = height[0]\n",
    "    for i in range(1, n):\n",
    "        left_max[i] = max(left_max[i - 1], height[i])\n",
    "    \n",
    "    right_max[n - 1] = height[n - 1]\n",
    "    for i in range(n - 2, -1, -1):\n",
    "        right_max[i] = max(right_max[i + 1], height[i])\n",
    "\n",
    "    trapped_water = 0\n",
    "    for i in range(n):\n",
    "        trapped_water += max(0, min(left_max[i], right_max[i]) - height[i])\n",
    "    \n",
    "    return trapped_water\n",
    "\n",
    "# Example inputs\n",
    "height1 = [0, 1, 0, 2, 1, 0, 1, 3, 2, 1, 2, 1]\n",
    "height2 = [4, 2, 0, 3, 2, 5]\n",
    "\n",
    "output1 = trap(height1)\n",
    "output2 = trap(height2)\n",
    "\n",
    "print(output1) \n",
    "print(output2) "
   ]
  },
  {
   "cell_type": "code",
   "execution_count": null,
   "id": "cb802a66",
   "metadata": {},
   "outputs": [],
   "source": []
  }
 ],
 "metadata": {
  "kernelspec": {
   "display_name": "Python 3 (ipykernel)",
   "language": "python",
   "name": "python3"
  },
  "language_info": {
   "codemirror_mode": {
    "name": "ipython",
    "version": 3
   },
   "file_extension": ".py",
   "mimetype": "text/x-python",
   "name": "python",
   "nbconvert_exporter": "python",
   "pygments_lexer": "ipython3",
   "version": "3.11.3"
  }
 },
 "nbformat": 4,
 "nbformat_minor": 5
}
