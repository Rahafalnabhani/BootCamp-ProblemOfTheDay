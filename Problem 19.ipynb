{
 "cells": [
  {
   "cell_type": "markdown",
   "id": "45c8174c",
   "metadata": {},
   "source": [
    "# Question "
   ]
  },
  {
   "cell_type": "code",
   "execution_count": null,
   "id": "d7dada83",
   "metadata": {},
   "outputs": [],
   "source": [
    "# Given two sorted arrays of distinct elements . There is only 1 difference between the arrays .\n",
    "# First array has one elments extra added in between .Find the index of the extra element \n",
    "#  A[2,4,6,8,9,10,12] , B[2,4,6,8,9,10,12 ] values .\n",
    "# N=7\n",
    "# The output must be 4 "
   ]
  },
  {
   "cell_type": "code",
   "execution_count": null,
   "id": "6a195065",
   "metadata": {},
   "outputs": [],
   "source": [
    "def element_index(arr1, arr2):\n",
    "    low = 0\n",
    "    high = len(arr2) - 1\n",
    "\n",
    "    while low <= high:\n",
    "        mid = low + (high - low) // 2\n",
    "        \n",
    "        if arr1[mid] == arr2[mid]:\n",
    "            low = mid + 1\n",
    "        else:\n",
    "            high = mid - 1\n",
    "\n",
    "    return low\n",
    "\n",
    "# Example usage\n",
    "arr1 = [2, 4, 6, 8, 9, 10, 12]\n",
    "arr2 = [2, 4, 6, 8, 9, 10, 12, 14]\n",
    "index = element_index(arr1, arr2)\n",
    "print(\"Index of the extra element:\", index)"
   ]
  },
  {
   "cell_type": "code",
   "execution_count": 8,
   "id": "121d14bc",
   "metadata": {},
   "outputs": [
    {
     "name": "stdout",
     "output_type": "stream",
     "text": [
      "Index of the extra element: 7\n"
     ]
    }
   ],
   "source": [
    "def find_extra_element_index(arr1, arr2):\n",
    "    low = 0\n",
    "    high = len(arr1) - 1\n",
    "\n",
    "    while low <= high:\n",
    "        mid = low + (high - low) // 2\n",
    "\n",
    "        # If the elements at the mid index are equal, it means the extra element is to the right.\n",
    "        if arr1[mid] == arr2[mid]:\n",
    "            low = mid + 1\n",
    "        # If the elements at the mid index are not equal, it means the extra element is to the left.\n",
    "        else:\n",
    "            high = mid - 1\n",
    "\n",
    "    return low\n",
    "\n",
    "# Example usage\n",
    "arr1 = [2, 4, 6, 8, 9, 10, 12]\n",
    "arr2 = [2, 4, 6, 8, 9, 10, 12, 14]\n",
    "index = find_extra_element_index(arr1, arr2)\n",
    "print(\"Index of the extra element:\", index)\n"
   ]
  },
  {
   "cell_type": "code",
   "execution_count": null,
   "id": "0c939837",
   "metadata": {},
   "outputs": [],
   "source": []
  }
 ],
 "metadata": {
  "kernelspec": {
   "display_name": "Python 3 (ipykernel)",
   "language": "python",
   "name": "python3"
  },
  "language_info": {
   "codemirror_mode": {
    "name": "ipython",
    "version": 3
   },
   "file_extension": ".py",
   "mimetype": "text/x-python",
   "name": "python",
   "nbconvert_exporter": "python",
   "pygments_lexer": "ipython3",
   "version": "3.11.3"
  }
 },
 "nbformat": 4,
 "nbformat_minor": 5
}
