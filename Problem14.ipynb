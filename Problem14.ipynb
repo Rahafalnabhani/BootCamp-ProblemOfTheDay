{
 "cells": [
  {
   "cell_type": "markdown",
   "id": "c81d815b",
   "metadata": {},
   "source": [
    "# Question :"
   ]
  },
  {
   "cell_type": "code",
   "execution_count": 1,
   "id": "16b5b287",
   "metadata": {},
   "outputs": [],
   "source": [
    "# Given String representing a Post fix expression , the task is to evaluate the expression and find the final value .\n",
    "# Operators will only include the basic arithmetic operators Like [*,/,+,-]\n",
    "# Input = \"231*+9-\"\n",
    "# Explanation :\n",
    "#    After solving the given expression , we have -4 as result      "
   ]
  },
  {
   "cell_type": "code",
   "execution_count": 2,
   "id": "2be9467f",
   "metadata": {},
   "outputs": [
    {
     "name": "stdout",
     "output_type": "stream",
     "text": [
      "Result: -4\n"
     ]
    }
   ],
   "source": [
    "def evaluate_postfix(expression):\n",
    "    stack = []\n",
    "    \n",
    "    for char in expression:\n",
    "        if char.isdigit():\n",
    "            stack.append(int(char))\n",
    "        else:\n",
    "            operand2 = stack.pop()\n",
    "            operand1 = stack.pop()\n",
    "            \n",
    "            if char == '+':\n",
    "                stack.append(operand1 + operand2)\n",
    "            elif char == '-':\n",
    "                stack.append(operand1 - operand2)\n",
    "            elif char == '*':\n",
    "                stack.append(operand1 * operand2)\n",
    "            elif char == '/':\n",
    "                stack.append(operand1 / operand2) \n",
    "            \n",
    "    return stack[0]\n",
    "\n",
    "# Example input\n",
    "input_expression = \"231*+9-\"\n",
    "result = evaluate_postfix(input_expression)\n",
    "print(\"Result:\", result)"
   ]
  },
  {
   "cell_type": "code",
   "execution_count": null,
   "id": "74d17c3b",
   "metadata": {},
   "outputs": [],
   "source": []
  }
 ],
 "metadata": {
  "kernelspec": {
   "display_name": "Python 3 (ipykernel)",
   "language": "python",
   "name": "python3"
  },
  "language_info": {
   "codemirror_mode": {
    "name": "ipython",
    "version": 3
   },
   "file_extension": ".py",
   "mimetype": "text/x-python",
   "name": "python",
   "nbconvert_exporter": "python",
   "pygments_lexer": "ipython3",
   "version": "3.11.3"
  }
 },
 "nbformat": 4,
 "nbformat_minor": 5
}
