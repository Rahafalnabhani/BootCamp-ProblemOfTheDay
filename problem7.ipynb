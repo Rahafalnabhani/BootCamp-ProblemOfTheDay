{
 "cells": [
  {
   "cell_type": "markdown",
   "id": "2bdff7e0",
   "metadata": {},
   "source": [
    "# Question :"
   ]
  },
  {
   "cell_type": "code",
   "execution_count": null,
   "id": "02d940b6",
   "metadata": {},
   "outputs": [],
   "source": [
    "# Given an array A of positive integers your task is to find the leader in the array . An element of array is leader\n",
    "# if it is greater than or equal to its right side the right most element is always a leader"
   ]
  },
  {
   "cell_type": "code",
   "execution_count": 1,
   "id": "d8336b69",
   "metadata": {},
   "outputs": [
    {
     "name": "stdout",
     "output_type": "stream",
     "text": [
      "2 5 17 "
     ]
    }
   ],
   "source": [
    "def find_leaders(arr):\n",
    "    n = len(arr)\n",
    "    current_leader = arr[n - 1]\n",
    "    print(current_leader, end=\" \")\n",
    "\n",
    "    for i in range(n - 2, -1, -1):\n",
    "        if current_leader < arr[i]:\n",
    "            current_leader = arr[i]\n",
    "            print(current_leader, end=\" \")\n",
    "\n",
    "# Example usage\n",
    "arr = [16, 17, 4, 3, 5, 2]\n",
    "find_leaders(arr)"
   ]
  },
  {
   "cell_type": "code",
   "execution_count": 2,
   "id": "a6f21018",
   "metadata": {},
   "outputs": [
    {
     "name": "stdout",
     "output_type": "stream",
     "text": [
      "Leaders in the array: [17, 5, 2]\n"
     ]
    }
   ],
   "source": [
    "def find_leaders(arr):\n",
    "    max_right = 0\n",
    "    leaders = []\n",
    "\n",
    "    for num in reversed(arr):\n",
    "        if num >= max_right:\n",
    "            max_right = num\n",
    "            leaders.append(num)\n",
    "\n",
    "    return leaders[::-1]\n",
    "\n",
    "# Example usage\n",
    "arr = [16, 17, 4, 3, 5, 2]\n",
    "leaders = find_leaders(arr)\n",
    "print(\"Leaders in the array:\", leaders)"
   ]
  },
  {
   "cell_type": "code",
   "execution_count": null,
   "id": "a39709d0",
   "metadata": {},
   "outputs": [],
   "source": []
  }
 ],
 "metadata": {
  "kernelspec": {
   "display_name": "Python 3 (ipykernel)",
   "language": "python",
   "name": "python3"
  },
  "language_info": {
   "codemirror_mode": {
    "name": "ipython",
    "version": 3
   },
   "file_extension": ".py",
   "mimetype": "text/x-python",
   "name": "python",
   "nbconvert_exporter": "python",
   "pygments_lexer": "ipython3",
   "version": "3.11.3"
  }
 },
 "nbformat": 4,
 "nbformat_minor": 5
}
