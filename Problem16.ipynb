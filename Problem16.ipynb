{
 "cells": [
  {
   "cell_type": "markdown",
   "id": "cbb3dabe",
   "metadata": {},
   "source": [
    "# Question  :"
   ]
  },
  {
   "cell_type": "code",
   "execution_count": null,
   "id": "883dded5",
   "metadata": {},
   "outputs": [],
   "source": [
    "# There one meeting room in a firm . There are N meeting in the form of (starting[i] , ending[i]) , where start [i] is\n",
    "# start time of meeting i and end [i] is finish time of meeting i .\n",
    "# What is the maximum number of meeting that can be accommeelated in the meeting room when only one meeting can be be held\n",
    "# in the meeting room at a particular time ?\n",
    "\n",
    "# Note:\n",
    "#   start time of one chosen meeting can't be equal to the end time of the other chosen meeting .\n",
    "\n",
    "# Input :\n",
    "#   N=6"
   ]
  },
  {
   "cell_type": "code",
   "execution_count": 5,
   "id": "f6b96f79",
   "metadata": {},
   "outputs": [
    {
     "name": "stdout",
     "output_type": "stream",
     "text": [
      "Maximum number of meetings that can be accommodated: 3\n"
     ]
    }
   ],
   "source": [
    "def max_meetings(start_times, end_times):\n",
    "    # Create a list of tuples (start time, end time)\n",
    "    meetings = list(zip(start_times, end_times))\n",
    "\n",
    "    # Sort meetings by ending times\n",
    "    meetings.sort(key=lambda x: x[1])\n",
    "\n",
    "    max_meetings = 0\n",
    "    current_end_time = 0\n",
    "\n",
    "    for meeting in meetings:\n",
    "        start_time, end_time = meeting\n",
    "        if start_time > current_end_time:\n",
    "            max_meetings += 1\n",
    "            current_end_time = end_time\n",
    "\n",
    "    return max_meetings\n",
    "\n",
    "# Example usage:\n",
    "N = 6\n",
    "start_times = [1, 2, 4, 6, 8, 9]\n",
    "end_times = [3, 5, 7, 9, 10, 12]\n",
    "result = max_meetings(start_times, end_times)\n",
    "print(\"Maximum number of meetings that can be accommodated:\", result)"
   ]
  }
 ],
 "metadata": {
  "kernelspec": {
   "display_name": "Python 3 (ipykernel)",
   "language": "python",
   "name": "python3"
  },
  "language_info": {
   "codemirror_mode": {
    "name": "ipython",
    "version": 3
   },
   "file_extension": ".py",
   "mimetype": "text/x-python",
   "name": "python",
   "nbconvert_exporter": "python",
   "pygments_lexer": "ipython3",
   "version": "3.11.3"
  }
 },
 "nbformat": 4,
 "nbformat_minor": 5
}
