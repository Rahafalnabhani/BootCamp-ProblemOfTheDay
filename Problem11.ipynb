{
 "cells": [
  {
   "cell_type": "markdown",
   "id": "b462ac18",
   "metadata": {},
   "source": [
    "# Question :"
   ]
  },
  {
   "cell_type": "code",
   "execution_count": null,
   "id": "14dcefc7",
   "metadata": {},
   "outputs": [],
   "source": [
    "# Given as String S , find the longest palindromic substring in S . Substring in string S : S[i..j] \n",
    "# Where o <= i <= j len(S) Palindrome string i .A string that reads the same backword \n",
    "# More formally, S in Palindrome of reverse(S) = S . In case of conflid return the substring which occurs first\n",
    "# (With the least starting index)\n",
    "# The Input will be aaabbaa"
   ]
  },
  {
   "cell_type": "code",
   "execution_count": 2,
   "id": "817415b7",
   "metadata": {},
   "outputs": [
    {
     "name": "stdout",
     "output_type": "stream",
     "text": [
      "Enter a string: aaabbaa\n",
      "Longest palindromic substring: aabbaa\n"
     ]
    }
   ],
   "source": [
    "def is_palindrome(s):\n",
    "    return s == s[::-1]\n",
    "\n",
    "def longest_palindromic_substring(s):\n",
    "    n = len(s)\n",
    "    longest = \"\"\n",
    "\n",
    "    for i in range(n):\n",
    "        for j in range(i + 1, n + 1):\n",
    "            substring = s[i:j]\n",
    "            if is_palindrome(substring) and len(substring) > len(longest):\n",
    "                longest = substring\n",
    "\n",
    "    return longest\n",
    "\n",
    "# To enter the string:\n",
    "input_string = input(\"Enter a string: \")\n",
    "result = longest_palindromic_substring(input_string)\n",
    "print(\"Longest palindromic substring:\", result)"
   ]
  },
  {
   "cell_type": "code",
   "execution_count": null,
   "id": "4f8f9033",
   "metadata": {},
   "outputs": [],
   "source": []
  }
 ],
 "metadata": {
  "kernelspec": {
   "display_name": "Python 3 (ipykernel)",
   "language": "python",
   "name": "python3"
  },
  "language_info": {
   "codemirror_mode": {
    "name": "ipython",
    "version": 3
   },
   "file_extension": ".py",
   "mimetype": "text/x-python",
   "name": "python",
   "nbconvert_exporter": "python",
   "pygments_lexer": "ipython3",
   "version": "3.11.3"
  }
 },
 "nbformat": 4,
 "nbformat_minor": 5
}
