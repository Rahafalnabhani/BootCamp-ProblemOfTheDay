{
 "cells": [
  {
   "cell_type": "code",
   "execution_count": null,
   "id": "e7242953",
   "metadata": {},
   "outputs": [],
   "source": [
    "# Mohammed wanted to find out if the person he was talking to online was a girl or a boy by their username by this method:\n",
    "# Chareeters in the username is single ---> (user is a boy) otherwise it is girl"
   ]
  },
  {
   "cell_type": "code",
   "execution_count": 3,
   "id": "71705c19",
   "metadata": {},
   "outputs": [
    {
     "name": "stdout",
     "output_type": "stream",
     "text": [
      "Enter the username: a\n",
      "The user is a Boy.\n"
     ]
    }
   ],
   "source": [
    "Username = input(\"Enter the username: \")\n",
    "\n",
    "username_length = len(Username)\n",
    "\n",
    "# Determine if the user is a boy or a girl\n",
    "if username_length == 1:\n",
    "    gender = \"Boy\"\n",
    "else:\n",
    "    gender = \"Girl\"\n",
    "\n",
    "# Display the result\n",
    "print(f\"The user is a {gender}.\")"
   ]
  },
  {
   "cell_type": "code",
   "execution_count": 4,
   "id": "c0b30161",
   "metadata": {},
   "outputs": [
    {
     "name": "stdout",
     "output_type": "stream",
     "text": [
      "Enter the username: rahaf\n",
      "The user is a Girl.\n"
     ]
    }
   ],
   "source": [
    "Username = input(\"Enter the username: \")\n",
    "\n",
    "username_length = len(Username)\n",
    "\n",
    "# Determine if the user is a boy or a girl\n",
    "if username_length == 1:\n",
    "    gender = \"Boy\"\n",
    "else:\n",
    "    gender = \"Girl\"\n",
    "\n",
    "# Display the result\n",
    "print(f\"The user is a {gender}.\")"
   ]
  }
 ],
 "metadata": {
  "kernelspec": {
   "display_name": "Python 3 (ipykernel)",
   "language": "python",
   "name": "python3"
  },
  "language_info": {
   "codemirror_mode": {
    "name": "ipython",
    "version": 3
   },
   "file_extension": ".py",
   "mimetype": "text/x-python",
   "name": "python",
   "nbconvert_exporter": "python",
   "pygments_lexer": "ipython3",
   "version": "3.11.3"
  }
 },
 "nbformat": 4,
 "nbformat_minor": 5
}
