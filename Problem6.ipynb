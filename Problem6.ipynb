{
 "cells": [
  {
   "cell_type": "code",
   "execution_count": null,
   "id": "6cd898fe",
   "metadata": {},
   "outputs": [],
   "source": [
    "# Chef and chefine are playing with dice in one turn , both of them roll their dice at once .\n",
    "# They concider a turn to be good if the sum of the numbers on their dice is greater than 6\n",
    "# Given that in a particular turn cheif and chefine got X and Y .\n",
    "# On their respective dice , find whether the turn was good"
   ]
  },
  {
   "cell_type": "code",
   "execution_count": 2,
   "id": "7e0f0e50",
   "metadata": {},
   "outputs": [
    {
     "name": "stdout",
     "output_type": "stream",
     "text": [
      "Enter the number on Chef's dice: 4\n",
      "Enter the number on Chefine's dice: 5\n",
      "The turn was good.\n"
     ]
    }
   ],
   "source": [
    "Chef = int(input(\"Enter the number on Chef's dice: \"))\n",
    "chefine = int(input(\"Enter the number on Chefine's dice: \"))\n",
    "\n",
    "To_sum = Chef + chefine\n",
    "\n",
    "if To_sum >6:\n",
    "       print(\"The turn was good.\")\n",
    "else:\n",
    "    print(\"The turn was not good.\")  "
   ]
  },
  {
   "cell_type": "code",
   "execution_count": null,
   "id": "bb872c19",
   "metadata": {},
   "outputs": [],
   "source": []
  }
 ],
 "metadata": {
  "kernelspec": {
   "display_name": "Python 3 (ipykernel)",
   "language": "python",
   "name": "python3"
  },
  "language_info": {
   "codemirror_mode": {
    "name": "ipython",
    "version": 3
   },
   "file_extension": ".py",
   "mimetype": "text/x-python",
   "name": "python",
   "nbconvert_exporter": "python",
   "pygments_lexer": "ipython3",
   "version": "3.11.3"
  }
 },
 "nbformat": 4,
 "nbformat_minor": 5
}
