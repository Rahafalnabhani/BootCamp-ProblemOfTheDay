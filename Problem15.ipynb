{
 "cells": [
  {
   "cell_type": "markdown",
   "id": "982d26a4",
   "metadata": {},
   "source": [
    "# Question :"
   ]
  },
  {
   "cell_type": "code",
   "execution_count": 4,
   "id": "25b379ee",
   "metadata": {},
   "outputs": [],
   "source": [
    "# Given a string s , return the first non repeating character , if there is no non repeating character return $\n",
    "# Input : s=\"hello\"\n",
    "# Output : h"
   ]
  },
  {
   "cell_type": "code",
   "execution_count": 2,
   "id": "5ef1ca59",
   "metadata": {},
   "outputs": [
    {
     "name": "stdout",
     "output_type": "stream",
     "text": [
      "Enter a string: hello\n",
      "First non-repeating character: h\n"
     ]
    }
   ],
   "source": [
    "def first_non_repeating_character(s):\n",
    "    return next((char for char in s if s.count(char) == 1), '$')\n",
    "\n",
    "# Get input from the user\n",
    "s = input(\"Enter a string: \")\n",
    "output = first_non_repeating_character(s)\n",
    "print(\"First non-repeating character:\", output)"
   ]
  },
  {
   "cell_type": "code",
   "execution_count": 3,
   "id": "c4d3b66c",
   "metadata": {},
   "outputs": [
    {
     "name": "stdout",
     "output_type": "stream",
     "text": [
      "Enter a string: rahaf\n",
      "First non-repeating character: r\n"
     ]
    }
   ],
   "source": [
    "def first_non_repeating_character(s):\n",
    "    return next((char for char in s if s.count(char) == 1), '$')\n",
    "\n",
    "# Get input from the user\n",
    "s = input(\"Enter a string: \")\n",
    "output = first_non_repeating_character(s)\n",
    "print(\"First non-repeating character:\", output)"
   ]
  },
  {
   "cell_type": "code",
   "execution_count": 5,
   "id": "a3e4067d",
   "metadata": {},
   "outputs": [
    {
     "name": "stdout",
     "output_type": "stream",
     "text": [
      "Enter a string: welcome\n",
      "First non-repeating character: w\n"
     ]
    }
   ],
   "source": [
    "def first_non_repeating_character(s):\n",
    "    return next((char for char in s if s.count(char) == 1), '$')\n",
    "\n",
    "# Get input from the user\n",
    "s = input(\"Enter a string: \")\n",
    "output = first_non_repeating_character(s)\n",
    "print(\"First non-repeating character:\", output)"
   ]
  },
  {
   "cell_type": "code",
   "execution_count": null,
   "id": "eece2456",
   "metadata": {},
   "outputs": [],
   "source": []
  }
 ],
 "metadata": {
  "kernelspec": {
   "display_name": "Python 3 (ipykernel)",
   "language": "python",
   "name": "python3"
  },
  "language_info": {
   "codemirror_mode": {
    "name": "ipython",
    "version": 3
   },
   "file_extension": ".py",
   "mimetype": "text/x-python",
   "name": "python",
   "nbconvert_exporter": "python",
   "pygments_lexer": "ipython3",
   "version": "3.11.3"
  }
 },
 "nbformat": 4,
 "nbformat_minor": 5
}
